{
 "cells": [
  {
   "cell_type": "markdown",
   "id": "sustained-pennsylvania",
   "metadata": {},
   "source": [
    "# [E-5] Spectrogram classification 모델 구현"
   ]
  },
  {
   "cell_type": "markdown",
   "id": "rapid-poverty",
   "metadata": {},
   "source": [
    "이번에는 2차원 Spectrogram 데이터를 입력받아 위 모델과 동일한 역할을 수행하는 모델을 아래 제시된 단계와 같이 수행해 보시기 바랍니다. 이번에도 마찬가지로 기본 버전과 Skip-connection 버전으로 나누어 각각 진행해 보시기 바랍니다.\n",
    "모델 구조를 제외하고는 실습에서 제시된 것과 거의 동일하게 진행될 것입니다. "
   ]
  },
  {
   "cell_type": "markdown",
   "id": "looking-lying",
   "metadata": {},
   "source": [
    "## 1. 데이터 처리와 분류"
   ]
  },
  {
   "cell_type": "markdown",
   "id": "present-horizontal",
   "metadata": {},
   "source": [
    "> - 라벨 데이터 처리하기\n",
    "> - sklearn의 train_test_split함수를 이용하여 train, test 분리"
   ]
  },
  {
   "cell_type": "markdown",
   "id": "convertible-operation",
   "metadata": {},
   "source": [
    "### 1-1. 데이터 준비"
   ]
  },
  {
   "cell_type": "code",
   "execution_count": null,
   "id": "immune-aircraft",
   "metadata": {},
   "outputs": [],
   "source": [
    "mkdir -p ~/aiffel/speech_recognition/data\n",
    "mkdir -p ~/aiffel/speech_recognition/models\n",
    "wget https://aiffelstaticdev.blob.core.windows.net/dataset/speech_wav_8000.npz -P ~/aiffel/speech_recognition/data"
   ]
  },
  {
   "cell_type": "code",
   "execution_count": 2,
   "id": "turned-boutique",
   "metadata": {},
   "outputs": [
    {
     "name": "stdout",
     "output_type": "stream",
     "text": [
      "✅\n"
     ]
    }
   ],
   "source": [
    "import numpy as np\n",
    "import os\n",
    "\n",
    "data_path = os.getenv(\"HOME\")+'/aiffel/speech_recognition/data/speech_wav_8000.npz'\n",
    "speech_data = np.load(data_path)\n",
    "\n",
    "print(\"✅\")"
   ]
  },
  {
   "cell_type": "code",
   "execution_count": 3,
   "id": "developing-attempt",
   "metadata": {},
   "outputs": [
    {
     "name": "stdout",
     "output_type": "stream",
     "text": [
      "Wave data shape :  (50620, 8000)\n",
      "Label data shape :  (50620, 1)\n",
      "✅\n"
     ]
    }
   ],
   "source": [
    "print(\"Wave data shape : \", speech_data[\"wav_vals\"].shape)\n",
    "print(\"Label data shape : \", speech_data[\"label_vals\"].shape)\n",
    "\n",
    "print(\"✅\")"
   ]
  },
  {
   "cell_type": "code",
   "execution_count": 4,
   "id": "muslim-membrane",
   "metadata": {},
   "outputs": [
    {
     "name": "stdout",
     "output_type": "stream",
     "text": [
      "rand num :  38232\n",
      "Wave data shape :  (8000,)\n",
      "label :  ['stop']\n"
     ]
    },
    {
     "data": {
      "text/html": [
       "\n",
       "                <audio  controls=\"controls\" >\n",
       "                    <source src=\"data:audio/wav;base64,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\" type=\"audio/wav\" />\n",
       "                    Your browser does not support the audio element.\n",
       "                </audio>\n",
       "              "
      ],
      "text/plain": [
       "<IPython.lib.display.Audio object>"
      ]
     },
     "execution_count": 4,
     "metadata": {},
     "output_type": "execute_result"
    }
   ],
   "source": [
    "import IPython.display as ipd\n",
    "import random\n",
    "\n",
    "# 데이터 선택 (랜덤하게 선택하고 있으니, 여러번 실행해 보세요)\n",
    "rand = random.randint(0, len(speech_data[\"wav_vals\"]))\n",
    "print(\"rand num : \", rand)\n",
    "\n",
    "sr = 8000 # 1초동안 재생되는 샘플의 갯수\n",
    "data = speech_data[\"wav_vals\"][rand]\n",
    "print(\"Wave data shape : \", data.shape)\n",
    "print(\"label : \", speech_data[\"label_vals\"][rand])\n",
    "\n",
    "ipd.Audio(data, rate=sr)"
   ]
  },
  {
   "cell_type": "markdown",
   "id": "sweet-liabilities",
   "metadata": {},
   "source": [
    "### 1-2. 라벨 데이터 처리하기"
   ]
  },
  {
   "cell_type": "code",
   "execution_count": 5,
   "id": "stock-sample",
   "metadata": {},
   "outputs": [
    {
     "name": "stdout",
     "output_type": "stream",
     "text": [
      "LABEL :  ['yes', 'no', 'up', 'down', 'left', 'right', 'on', 'off', 'stop', 'go', 'unknown', 'silence']\n",
      "Indexed LABEL :  {'yes': 0, 'no': 1, 'up': 2, 'down': 3, 'left': 4, 'right': 5, 'on': 6, 'off': 7, 'stop': 8, 'go': 9, 'unknown': 10, 'silence': 11}\n"
     ]
    }
   ],
   "source": [
    "target_list = ['yes', 'no', 'up', 'down', 'left', 'right', 'on', 'off', 'stop', 'go']\n",
    "\n",
    "label_value = target_list\n",
    "label_value.append('unknown')\n",
    "label_value.append('silence')\n",
    "\n",
    "print('LABEL : ', label_value)\n",
    "\n",
    "new_label_value = dict()\n",
    "for i, l in enumerate(label_value):\n",
    "    new_label_value[l] = i\n",
    "label_value = new_label_value\n",
    "\n",
    "print('Indexed LABEL : ', new_label_value)"
   ]
  },
  {
   "cell_type": "code",
   "execution_count": 6,
   "id": "textile-deadline",
   "metadata": {},
   "outputs": [
    {
     "data": {
      "text/plain": [
       "array([ 3,  3,  3, ..., 11, 11, 11])"
      ]
     },
     "execution_count": 6,
     "metadata": {},
     "output_type": "execute_result"
    }
   ],
   "source": [
    "temp = []\n",
    "for v in speech_data[\"label_vals\"]:\n",
    "    temp.append(label_value[v[0]])\n",
    "label_data = np.array(temp)\n",
    "\n",
    "label_data"
   ]
  },
  {
   "cell_type": "markdown",
   "id": "induced-dominant",
   "metadata": {},
   "source": [
    "### 1-3. 1차원의 Waveform 데이터를 2차원의 Spctogram 데이터로 변환"
   ]
  },
  {
   "cell_type": "code",
   "execution_count": null,
   "id": "pointed-holiday",
   "metadata": {},
   "outputs": [],
   "source": [
    "pip install librosa"
   ]
  },
  {
   "cell_type": "code",
   "execution_count": 7,
   "id": "local-oxide",
   "metadata": {},
   "outputs": [
    {
     "name": "stdout",
     "output_type": "stream",
     "text": [
      "✅\n"
     ]
    }
   ],
   "source": [
    "import librosa\n",
    "\n",
    "def wav2spec(wav, fft_size= 258): # spectrogram shape을 맞추기위해서 size 변형\n",
    "    D = np.abs(librosa.stft(wav, n_fft=fft_size))\n",
    "    return D\n",
    "\n",
    "spec_data = []\n",
    "for wav in speech_data[\"wav_vals\"]:\n",
    "    spec_data.append(wav2spec(wav))\n",
    "spec_data = np.array(spec_data)\n",
    "\n",
    "\n",
    "print(\"✅\")"
   ]
  },
  {
   "cell_type": "code",
   "execution_count": 7,
   "id": "broken-performance",
   "metadata": {},
   "outputs": [
    {
     "name": "stdout",
     "output_type": "stream",
     "text": [
      "Waveform shape :  (8000,)\n",
      "Spectrogram shape :  (130, 126)\n"
     ]
    }
   ],
   "source": [
    "spec = wav2spec(data)\n",
    "print(\"Waveform shape : \",data.shape)\n",
    "print(\"Spectrogram shape : \",spec.shape)"
   ]
  },
  {
   "cell_type": "markdown",
   "id": "compressed-google",
   "metadata": {},
   "source": [
    "'wav2spec'으로 1차원인 'Waveform shape'을 Spectrogram은 (130, 126) 2차원으로 변환하였다."
   ]
  },
  {
   "cell_type": "markdown",
   "id": "north-review",
   "metadata": {},
   "source": [
    "### 1-4. sklearn의 train_test_split함수를 이용하여 train, test 분리"
   ]
  },
  {
   "cell_type": "code",
   "execution_count": 8,
   "id": "chemical-receiver",
   "metadata": {},
   "outputs": [
    {
     "name": "stdout",
     "output_type": "stream",
     "text": [
      "[[[5.5055697e-02 2.5031567e-02 1.1901887e-02 ... 9.9963181e-02\n",
      "   7.7022962e-02 6.6310421e-02]\n",
      "  [1.8474087e-02 5.4092709e-02 6.3603953e-02 ... 5.7683893e-02\n",
      "   3.7260320e-02 2.9595055e-02]\n",
      "  [4.1177981e-03 5.6822605e-02 1.5945017e-01 ... 1.5553795e-02\n",
      "   7.1175243e-03 1.3780339e-02]\n",
      "  ...\n",
      "  [5.0922739e-03 2.2498181e-03 5.6883134e-04 ... 5.8058352e-04\n",
      "   2.4829800e-03 4.6176380e-03]\n",
      "  [5.0084139e-03 2.6703533e-03 7.3788695e-05 ... 1.8564997e-04\n",
      "   2.6182111e-03 4.8833075e-03]\n",
      "  [5.0931759e-03 2.5190294e-03 5.5727076e-05 ... 5.8630223e-05\n",
      "   2.3759915e-03 4.7659525e-03]]\n",
      "\n",
      " [[2.3076054e-02 8.0467556e-03 1.7946314e-03 ... 3.2100133e-03\n",
      "   2.3037021e-03 2.6927816e-02]\n",
      "  [3.5635121e-02 2.2944536e-02 1.2718392e-02 ... 2.5380233e-02\n",
      "   2.6853925e-02 2.1427503e-02]\n",
      "  [4.1142527e-02 2.8423982e-02 3.6954261e-02 ... 4.9313366e-02\n",
      "   3.8083676e-02 9.8348884e-03]\n",
      "  ...\n",
      "  [5.7602925e-03 2.6331723e-03 5.4568879e-04 ... 5.8057421e-04\n",
      "   2.1596418e-03 3.9901561e-03]\n",
      "  [5.7117748e-03 3.0169850e-03 6.9007678e-05 ... 1.8235718e-04\n",
      "   2.2955802e-03 4.2637167e-03]\n",
      "  [5.7857996e-03 2.8729332e-03 4.6751618e-05 ... 5.5040891e-05\n",
      "   2.0671193e-03 4.1557197e-03]]\n",
      "\n",
      " [[1.2288686e-02 5.4175388e-03 1.3850102e-03 ... 8.8282708e-05\n",
      "   4.4719731e-03 1.1029832e-02]\n",
      "  [1.6274229e-02 7.6848450e-03 1.9035257e-03 ... 3.0923830e-03\n",
      "   7.5194403e-03 1.1839228e-02]\n",
      "  [2.0697471e-02 1.4021461e-02 3.6961096e-03 ... 7.6463083e-03\n",
      "   5.9434022e-03 1.2361763e-02]\n",
      "  ...\n",
      "  [4.5887800e-03 2.0132067e-03 5.7104620e-04 ... 5.8144407e-04\n",
      "   2.4275579e-03 4.4986657e-03]\n",
      "  [4.5253560e-03 2.4236673e-03 7.5064461e-05 ... 1.8154562e-04\n",
      "   2.5651045e-03 4.7835200e-03]\n",
      "  [4.6023298e-03 2.2707428e-03 5.3356544e-05 ... 5.6242883e-05\n",
      "   2.3298233e-03 4.6703126e-03]]\n",
      "\n",
      " ...\n",
      "\n",
      " [[4.1953471e-02 2.2716345e-02 3.1315242e-03 ... 4.4158958e-02\n",
      "   2.9404985e-02 5.9742298e-02]\n",
      "  [4.8666421e-02 2.4803869e-02 1.5273232e-02 ... 5.6755494e-02\n",
      "   4.8427913e-02 3.1045558e-02]\n",
      "  [1.2555081e-01 6.4172626e-02 2.5618963e-02 ... 3.1839058e-02\n",
      "   4.4626299e-02 5.4259166e-02]\n",
      "  ...\n",
      "  [1.1145398e-03 5.5988075e-04 6.3611678e-06 ... 3.8591759e-05\n",
      "   1.7983635e-05 6.0744333e-06]\n",
      "  [1.1075905e-03 5.5925205e-04 7.1300810e-06 ... 1.0020891e-05\n",
      "   1.3268696e-05 1.1442657e-05]\n",
      "  [1.1003666e-03 5.5850256e-04 5.2019332e-06 ... 2.9673714e-07\n",
      "   6.7756145e-07 1.2690155e-05]]\n",
      "\n",
      " [[3.7698293e-04 2.8521338e-04 2.2245658e-04 ... 5.5433396e-04\n",
      "   6.6032103e-04 1.5403589e-03]\n",
      "  [5.4334046e-04 2.5816631e-04 2.8378013e-04 ... 7.3137641e-04\n",
      "   1.0442000e-03 1.0974051e-03]\n",
      "  [1.4077310e-03 8.1784022e-04 3.0983117e-04 ... 6.1843178e-04\n",
      "   5.8643601e-04 8.6515487e-05]\n",
      "  ...\n",
      "  [8.4777203e-05 4.6547095e-05 1.6814629e-06 ... 4.5089910e-06\n",
      "   1.4197259e-05 2.4949235e-05]\n",
      "  [7.5203541e-05 3.7330890e-05 2.5012350e-06 ... 2.4475692e-06\n",
      "   8.7509470e-06 1.9766769e-05]\n",
      "  [6.9581889e-05 3.3006450e-05 2.0048319e-06 ... 1.3712640e-06\n",
      "   9.6891054e-06 1.8260504e-05]]\n",
      "\n",
      " [[1.5887834e+00 1.1171190e+00 1.9464716e-02 ... 7.3212072e-02\n",
      "   6.0547769e-01 6.4552468e-01]\n",
      "  [7.3874688e-01 9.8055106e-01 6.7811745e-01 ... 5.4003167e-01\n",
      "   3.1429136e-01 3.5285252e-01]\n",
      "  [2.7824476e-01 5.7048833e-01 3.9596128e-01 ... 3.6673233e-01\n",
      "   6.9329292e-02 8.4101975e-02]\n",
      "  ...\n",
      "  [1.7538051e-03 5.8936374e-04 5.6570611e-04 ... 5.6804769e-04\n",
      "   1.7821502e-03 3.3438832e-03]\n",
      "  [1.7079154e-03 9.9292130e-04 7.0282898e-05 ... 1.6943640e-04\n",
      "   1.9338570e-03 3.5551668e-03]\n",
      "  [1.7872052e-03 8.5491786e-04 4.3001088e-05 ... 5.7737689e-05\n",
      "   1.7056771e-03 3.4616280e-03]]]\n",
      "✅\n"
     ]
    }
   ],
   "source": [
    "from sklearn.model_selection import train_test_split\n",
    "\n",
    "sr = 130     # 2차원으로 변환된 것을 반영한다.\n",
    "sc = 126\n",
    "train_spec, test_spec, train_label, test_label = train_test_split(spec_data, \n",
    "                                                                label_data,                                                        \n",
    "                                                                test_size = 0.1,\n",
    "                                                                shuffle=True)\n",
    "print(train_spec)\n",
    "\n",
    "train_spec = train_spec.reshape([-1, sr, sc, 1]) # add channel for CNN\n",
    "test_spec = test_spec.reshape([-1, sr, sc, 1])\n",
    "\n",
    "print(\"✅\")"
   ]
  },
  {
   "cell_type": "code",
   "execution_count": 9,
   "id": "twenty-addition",
   "metadata": {},
   "outputs": [
    {
     "name": "stdout",
     "output_type": "stream",
     "text": [
      "train data :  (45558, 130, 126, 1)\n",
      "train labels :  (45558,)\n",
      "test data :  (5062, 130, 126, 1)\n",
      "test labels :  (5062,)\n",
      "✅\n"
     ]
    }
   ],
   "source": [
    "print(\"train data : \", train_spec.shape)\n",
    "print(\"train labels : \", train_label.shape)\n",
    "print(\"test data : \", test_spec.shape)\n",
    "print(\"test labels : \", test_label.shape)\n",
    "\n",
    "print(\"✅\")"
   ]
  },
  {
   "cell_type": "markdown",
   "id": "approximate-antarctica",
   "metadata": {},
   "source": [
    "##  2. 학습을 위한 하이퍼파라미터 설정"
   ]
  },
  {
   "cell_type": "markdown",
   "id": "coordinated-growth",
   "metadata": {},
   "source": [
    "batch는 dataset에서 제공하는 튜플 형태의 데이터를 얼마나 가져올지 결정하는 함수이다."
   ]
  },
  {
   "cell_type": "code",
   "execution_count": 9,
   "id": "running-parent",
   "metadata": {},
   "outputs": [
    {
     "data": {
      "text/plain": [
       "'/home/aiffel-dj23/aiffel/speech_recognition/models/wav'"
      ]
     },
     "execution_count": 9,
     "metadata": {},
     "output_type": "execute_result"
    }
   ],
   "source": [
    "batch_size = 8\n",
    "max_epochs = 6\n",
    "\n",
    "# the save point\n",
    "checkpoint_dir = os.getenv('HOME')+'/aiffel/speech_recognition/models/wav'\n",
    "\n",
    "checkpoint_dir"
   ]
  },
  {
   "cell_type": "markdown",
   "id": "martial-former",
   "metadata": {},
   "source": [
    "*메모리 버퍼 비워서 공간을 확보한다."
   ]
  },
  {
   "cell_type": "code",
   "execution_count": 11,
   "id": "pending-spiritual",
   "metadata": {},
   "outputs": [],
   "source": [
    "del speech_data\n",
    "del spec_data"
   ]
  },
  {
   "cell_type": "markdown",
   "id": "retired-piece",
   "metadata": {},
   "source": [
    "## 3. 데이터셋 구성"
   ]
  },
  {
   "cell_type": "markdown",
   "id": "departmental-binding",
   "metadata": {},
   "source": [
    "> - tf.data.Dataset을 이용\n",
    "> - from_tensor_slices 함수에 return 받길 원하는 데이터를 튜플 (data, label) 형태로 넣어서 사용\n",
    "> - map과 batch를 이용한 데이터 전처리\n",
    "> - 주의 : waveform을 spectrogram으로 변환하기 위해 추가로 사용하는 메모리 때문에 이후 메모리 부족 현상을 겪게 될수도 있습니다.\n",
    "> - tf.data.Dataset이 생성된 이후, 아래 예시와 같이 wav 데이터나 spectrogram 데이터를 담아둔 메모리 버퍼를 비워 주면 도움이 됩니다.\n"
   ]
  },
  {
   "cell_type": "code",
   "execution_count": 10,
   "id": "opposite-corrections",
   "metadata": {},
   "outputs": [
    {
     "name": "stdout",
     "output_type": "stream",
     "text": [
      "✅\n"
     ]
    }
   ],
   "source": [
    "def one_hot_label(wav, label):\n",
    "    label = tf.one_hot(label, depth=12)\n",
    "    return wav, label\n",
    "\n",
    "print(\"✅\")"
   ]
  },
  {
   "cell_type": "markdown",
   "id": "european-tiffany",
   "metadata": {},
   "source": [
    "### 3-1. tf.data.Dataset, map과 batch를 이용한 데이터 전처리\n",
    "\n",
    "* 주의 : waveform을 spectrogram으로 변환하기 위해 추가로 사용하는 메모리 때문에 이후 메모리 부족 현상을 겪게 될수도 있습니다.\n",
    "\n",
    "+ tf.data.Dataset이 생성된 이후, 아래 예시와 같이 wav 데이터나 spectrogram 데이터를 담아둔 메모리 버퍼를 비워 주면 도움이 됩니다."
   ]
  },
  {
   "cell_type": "code",
   "execution_count": 12,
   "id": "union-cleanup",
   "metadata": {},
   "outputs": [
    {
     "name": "stdout",
     "output_type": "stream",
     "text": [
      "<BatchDataset shapes: ((None, 130, 126, 1), (None, 12)), types: (tf.float32, tf.float32)>\n",
      "<BatchDataset shapes: ((None, 130, 126, 1), (None, 12)), types: (tf.float32, tf.float32)>\n",
      "✅\n"
     ]
    }
   ],
   "source": [
    "import tensorflow as tf\n",
    "\n",
    "# for train\n",
    "train_dataset = tf.data.Dataset.from_tensor_slices((train_spec, train_label))\n",
    "train_dataset = train_dataset.map(one_hot_label)\n",
    "train_dataset = train_dataset.repeat().batch(batch_size=batch_size)\n",
    "print(train_dataset)\n",
    "\n",
    "# for test\n",
    "test_dataset = tf.data.Dataset.from_tensor_slices((test_spec, test_label))\n",
    "test_dataset = test_dataset.map(one_hot_label)\n",
    "test_dataset = test_dataset.batch(batch_size=batch_size)\n",
    "print(test_dataset)\n",
    "\n",
    "print(\"✅\")"
   ]
  },
  {
   "cell_type": "markdown",
   "id": "provincial-alaska",
   "metadata": {},
   "source": [
    "## 4. 2차원 Spectrogram 데이터를 처리하는 모델 구성"
   ]
  },
  {
   "cell_type": "markdown",
   "id": "twelve-amplifier",
   "metadata": {},
   "source": [
    "> - 2차원 Spectrogram 데이터의 시간축 방향으로 Conv1D layer를 적용, 혹은 Conv2D layer를 적용 가능\n",
    "> - batchnorm, dropout, dense layer 등을 이용\n",
    "> - 12개의 단어 class를 구분하는 loss를 사용하고 Adam optimizer를 사용\n",
    "> - 모델 가중치를 저장하는 checkpoint callback 함수 추가\n",
    "> -다양한 모델의 실험을 진행해 보시기 바랍니다"
   ]
  },
  {
   "cell_type": "markdown",
   "id": "surprised-boundary",
   "metadata": {},
   "source": [
    "### 4-1. Wave model"
   ]
  },
  {
   "cell_type": "markdown",
   "id": "ordered-ordinance",
   "metadata": {},
   "source": [
    "**- 모델 구성**"
   ]
  },
  {
   "cell_type": "markdown",
   "id": "handy-retailer",
   "metadata": {},
   "source": [
    "**Check point)** input shape은 130, 126, 1"
   ]
  },
  {
   "cell_type": "code",
   "execution_count": 14,
   "id": "sonic-premiere",
   "metadata": {},
   "outputs": [
    {
     "name": "stdout",
     "output_type": "stream",
     "text": [
      "Model: \"model\"\n",
      "_________________________________________________________________\n",
      "Layer (type)                 Output Shape              Param #   \n",
      "=================================================================\n",
      "input_1 (InputLayer)         [(None, 130, 126, 1)]     0         \n",
      "_________________________________________________________________\n",
      "conv2d (Conv2D)              (None, 130, 126, 32)      320       \n",
      "_________________________________________________________________\n",
      "conv2d_1 (Conv2D)            (None, 130, 126, 32)      9248      \n",
      "_________________________________________________________________\n",
      "max_pooling2d (MaxPooling2D) (None, 65, 63, 32)        0         \n",
      "_________________________________________________________________\n",
      "conv2d_2 (Conv2D)            (None, 65, 63, 64)        18496     \n",
      "_________________________________________________________________\n",
      "conv2d_3 (Conv2D)            (None, 65, 63, 64)        36928     \n",
      "_________________________________________________________________\n",
      "max_pooling2d_1 (MaxPooling2 (None, 32, 31, 64)        0         \n",
      "_________________________________________________________________\n",
      "conv2d_4 (Conv2D)            (None, 32, 31, 128)       73856     \n",
      "_________________________________________________________________\n",
      "conv2d_5 (Conv2D)            (None, 32, 31, 128)       147584    \n",
      "_________________________________________________________________\n",
      "conv2d_6 (Conv2D)            (None, 32, 31, 128)       147584    \n",
      "_________________________________________________________________\n",
      "max_pooling2d_2 (MaxPooling2 (None, 16, 15, 128)       0         \n",
      "_________________________________________________________________\n",
      "conv2d_7 (Conv2D)            (None, 16, 15, 256)       295168    \n",
      "_________________________________________________________________\n",
      "conv2d_8 (Conv2D)            (None, 16, 15, 256)       590080    \n",
      "_________________________________________________________________\n",
      "conv2d_9 (Conv2D)            (None, 16, 15, 256)       590080    \n",
      "_________________________________________________________________\n",
      "max_pooling2d_3 (MaxPooling2 (None, 8, 7, 256)         0         \n",
      "_________________________________________________________________\n",
      "dropout (Dropout)            (None, 8, 7, 256)         0         \n",
      "_________________________________________________________________\n",
      "flatten (Flatten)            (None, 14336)             0         \n",
      "_________________________________________________________________\n",
      "dense (Dense)                (None, 256)               3670272   \n",
      "_________________________________________________________________\n",
      "batch_normalization (BatchNo (None, 256)               1024      \n",
      "_________________________________________________________________\n",
      "activation (Activation)      (None, 256)               0         \n",
      "_________________________________________________________________\n",
      "dense_1 (Dense)              (None, 12)                3084      \n",
      "=================================================================\n",
      "Total params: 5,583,724\n",
      "Trainable params: 5,583,212\n",
      "Non-trainable params: 512\n",
      "_________________________________________________________________\n"
     ]
    }
   ],
   "source": [
    "from tensorflow.keras import layers\n",
    "\n",
    "input_tensor = layers.Input(shape=(130, 126, 1))   # 2차원 spectogram의 shape과 음성은 1채널\n",
    "\n",
    "x = layers.Conv2D(32, (3,3), padding='same', activation='relu')(input_tensor)  # 2차원으로 변경\n",
    "x = layers.Conv2D(32,  (3,3), padding='same', activation='relu')(x)\n",
    "x = layers.MaxPool2D()(x)     # 2차원으로 변경\n",
    "\n",
    "x = layers.Conv2D(64, (3,3), padding='same', activation='relu')(x)\n",
    "x = layers.Conv2D(64, (3,3), padding='same', activation='relu')(x)\n",
    "x = layers.MaxPool2D()(x)\n",
    "\n",
    "\n",
    "x = layers.Conv2D(128, (3,3), padding='same', activation='relu')(x)\n",
    "x = layers.Conv2D(128, (3,3), padding='same', activation='relu')(x)\n",
    "x = layers.Conv2D(128, (3,3), padding='same', activation='relu')(x)\n",
    "x = layers.MaxPool2D()(x)\n",
    "\n",
    "x = layers.Conv2D(256, (3,3), padding='same', activation='relu')(x)\n",
    "x = layers.Conv2D(256, (3,3), padding='same', activation='relu')(x)\n",
    "x = layers.Conv2D(256, (3,3), padding='same', activation='relu')(x)\n",
    "x = layers.MaxPool2D()(x)\n",
    "x = layers.Dropout(0.3)(x)\n",
    "\n",
    "x = layers.Flatten()(x)\n",
    "x = layers.Dense(256)(x)\n",
    "x = layers.BatchNormalization()(x)\n",
    "x = layers.Activation('relu')(x)\n",
    "\n",
    "output_tensor = layers.Dense(12)(x)\n",
    "\n",
    "model_wav = tf.keras.Model(input_tensor, output_tensor)\n",
    "\n",
    "model_wav.summary()"
   ]
  },
  {
   "cell_type": "markdown",
   "id": "leading-coordinate",
   "metadata": {},
   "source": [
    "**- 12개의 단어 class를 구분하는 loss를 사용하고 Adam optimizer를 사용**"
   ]
  },
  {
   "cell_type": "code",
   "execution_count": 15,
   "id": "hybrid-pattern",
   "metadata": {},
   "outputs": [
    {
     "name": "stdout",
     "output_type": "stream",
     "text": [
      "✅\n"
     ]
    }
   ],
   "source": [
    "optimizer=tf.keras.optimizers.Adam(1e-4)\n",
    "model_wav.compile(loss=tf.keras.losses.CategoricalCrossentropy(from_logits=True),\n",
    "             optimizer=optimizer,\n",
    "             metrics=['accuracy'])\n",
    "print(\"✅\")"
   ]
  },
  {
   "cell_type": "markdown",
   "id": "previous-wales",
   "metadata": {},
   "source": [
    "**- 모델 가중치를 저장하는 checkpoint callback 함수 추가**"
   ]
  },
  {
   "cell_type": "code",
   "execution_count": 16,
   "id": "greek-darwin",
   "metadata": {},
   "outputs": [
    {
     "name": "stdout",
     "output_type": "stream",
     "text": [
      "✅\n"
     ]
    }
   ],
   "source": [
    "cp_callback = tf.keras.callbacks.ModelCheckpoint(checkpoint_dir,\n",
    "                                                 save_weights_only=True,\n",
    "                                                 monitor='val_loss',\n",
    "                                                 mode='auto',\n",
    "                                                 save_best_only=True,\n",
    "                                                 verbose=1)\n",
    "print(\"✅\")"
   ]
  },
  {
   "cell_type": "markdown",
   "id": "outer-unemployment",
   "metadata": {},
   "source": [
    "**- 학습하기**"
   ]
  },
  {
   "cell_type": "code",
   "execution_count": 17,
   "id": "interpreted-minimum",
   "metadata": {},
   "outputs": [
    {
     "name": "stdout",
     "output_type": "stream",
     "text": [
      "Train for 5694 steps, validate for 632 steps\n",
      "Epoch 1/6\n",
      "5690/5694 [============================>.] - ETA: 0s - loss: 0.7231 - accuracy: 0.7675\n",
      "Epoch 00001: val_loss improved from inf to 0.31980, saving model to /home/aiffel-dj23/aiffel/speech_recognition/models/wav\n",
      "5694/5694 [==============================] - 88s 16ms/step - loss: 0.7229 - accuracy: 0.7676 - val_loss: 0.3198 - val_accuracy: 0.8989\n",
      "Epoch 2/6\n",
      "5692/5694 [============================>.] - ETA: 0s - loss: 0.2880 - accuracy: 0.9119\n",
      "Epoch 00002: val_loss improved from 0.31980 to 0.17555, saving model to /home/aiffel-dj23/aiffel/speech_recognition/models/wav\n",
      "5694/5694 [==============================] - 84s 15ms/step - loss: 0.2880 - accuracy: 0.9119 - val_loss: 0.1756 - val_accuracy: 0.9446\n",
      "Epoch 3/6\n",
      "5693/5694 [============================>.] - ETA: 0s - loss: 0.1869 - accuracy: 0.9426\n",
      "Epoch 00003: val_loss improved from 0.17555 to 0.14667, saving model to /home/aiffel-dj23/aiffel/speech_recognition/models/wav\n",
      "5694/5694 [==============================] - 85s 15ms/step - loss: 0.1869 - accuracy: 0.9426 - val_loss: 0.1467 - val_accuracy: 0.9535\n",
      "Epoch 4/6\n",
      "5692/5694 [============================>.] - ETA: 0s - loss: 0.1410 - accuracy: 0.9564\n",
      "Epoch 00004: val_loss improved from 0.14667 to 0.11460, saving model to /home/aiffel-dj23/aiffel/speech_recognition/models/wav\n",
      "5694/5694 [==============================] - 85s 15ms/step - loss: 0.1410 - accuracy: 0.9564 - val_loss: 0.1146 - val_accuracy: 0.9642\n",
      "Epoch 5/6\n",
      "5693/5694 [============================>.] - ETA: 0s - loss: 0.1108 - accuracy: 0.9654\n",
      "Epoch 00005: val_loss did not improve from 0.11460\n",
      "5694/5694 [==============================] - 85s 15ms/step - loss: 0.1108 - accuracy: 0.9654 - val_loss: 0.1170 - val_accuracy: 0.9610\n",
      "Epoch 6/6\n",
      "5693/5694 [============================>.] - ETA: 0s - loss: 0.0901 - accuracy: 0.9717\n",
      "Epoch 00006: val_loss did not improve from 0.11460\n",
      "5694/5694 [==============================] - 85s 15ms/step - loss: 0.0901 - accuracy: 0.9717 - val_loss: 0.1180 - val_accuracy: 0.9597\n",
      "✅\n"
     ]
    }
   ],
   "source": [
    "history_wav = model_wav.fit(train_dataset, epochs=max_epochs,\n",
    "                    steps_per_epoch=len(train_spec) // batch_size,\n",
    "                    validation_data=test_dataset,\n",
    "                    validation_steps=len(test_spec) // batch_size,\n",
    "                    callbacks=[cp_callback]\n",
    "                    )\n",
    "print(\"✅\")"
   ]
  },
  {
   "cell_type": "markdown",
   "id": "fleet-sharing",
   "metadata": {},
   "source": [
    "### 4-2. Skip-Connection model"
   ]
  },
  {
   "cell_type": "markdown",
   "id": "labeled-brighton",
   "metadata": {},
   "source": [
    "**- 모델 구성**"
   ]
  },
  {
   "cell_type": "code",
   "execution_count": 15,
   "id": "blessed-ministry",
   "metadata": {},
   "outputs": [
    {
     "name": "stdout",
     "output_type": "stream",
     "text": [
      "Model: \"model_1\"\n",
      "__________________________________________________________________________________________________\n",
      "Layer (type)                    Output Shape         Param #     Connected to                     \n",
      "==================================================================================================\n",
      "input_2 (InputLayer)            [(None, 130, 126, 1) 0                                            \n",
      "__________________________________________________________________________________________________\n",
      "conv2d_10 (Conv2D)              (None, 130, 126, 32) 320         input_2[0][0]                    \n",
      "__________________________________________________________________________________________________\n",
      "conv2d_11 (Conv2D)              (None, 130, 126, 32) 9248        conv2d_10[0][0]                  \n",
      "__________________________________________________________________________________________________\n",
      "max_pooling2d_4 (MaxPooling2D)  (None, 65, 63, 32)   0           conv2d_11[0][0]                  \n",
      "__________________________________________________________________________________________________\n",
      "conv2d_12 (Conv2D)              (None, 65, 63, 64)   18496       max_pooling2d_4[0][0]            \n",
      "__________________________________________________________________________________________________\n",
      "conv2d_13 (Conv2D)              (None, 65, 63, 64)   36928       conv2d_12[0][0]                  \n",
      "__________________________________________________________________________________________________\n",
      "tf_op_layer_concat (TensorFlowO [(None, 65, 63, 96)] 0           conv2d_13[0][0]                  \n",
      "                                                                 max_pooling2d_4[0][0]            \n",
      "__________________________________________________________________________________________________\n",
      "max_pooling2d_5 (MaxPooling2D)  (None, 32, 31, 96)   0           tf_op_layer_concat[0][0]         \n",
      "__________________________________________________________________________________________________\n",
      "conv2d_14 (Conv2D)              (None, 32, 31, 128)  110720      max_pooling2d_5[0][0]            \n",
      "__________________________________________________________________________________________________\n",
      "conv2d_15 (Conv2D)              (None, 32, 31, 128)  147584      conv2d_14[0][0]                  \n",
      "__________________________________________________________________________________________________\n",
      "conv2d_16 (Conv2D)              (None, 32, 31, 128)  147584      conv2d_15[0][0]                  \n",
      "__________________________________________________________________________________________________\n",
      "tf_op_layer_concat_1 (TensorFlo [(None, 32, 31, 224) 0           conv2d_16[0][0]                  \n",
      "                                                                 max_pooling2d_5[0][0]            \n",
      "__________________________________________________________________________________________________\n",
      "max_pooling2d_6 (MaxPooling2D)  (None, 16, 15, 224)  0           tf_op_layer_concat_1[0][0]       \n",
      "__________________________________________________________________________________________________\n",
      "conv2d_17 (Conv2D)              (None, 16, 15, 256)  516352      max_pooling2d_6[0][0]            \n",
      "__________________________________________________________________________________________________\n",
      "conv2d_18 (Conv2D)              (None, 16, 15, 256)  590080      conv2d_17[0][0]                  \n",
      "__________________________________________________________________________________________________\n",
      "conv2d_19 (Conv2D)              (None, 16, 15, 256)  590080      conv2d_18[0][0]                  \n",
      "__________________________________________________________________________________________________\n",
      "tf_op_layer_concat_2 (TensorFlo [(None, 16, 15, 480) 0           conv2d_19[0][0]                  \n",
      "                                                                 max_pooling2d_6[0][0]            \n",
      "__________________________________________________________________________________________________\n",
      "max_pooling2d_7 (MaxPooling2D)  (None, 8, 7, 480)    0           tf_op_layer_concat_2[0][0]       \n",
      "__________________________________________________________________________________________________\n",
      "dropout_1 (Dropout)             (None, 8, 7, 480)    0           max_pooling2d_7[0][0]            \n",
      "__________________________________________________________________________________________________\n",
      "flatten_1 (Flatten)             (None, 26880)        0           dropout_1[0][0]                  \n",
      "__________________________________________________________________________________________________\n",
      "dense_2 (Dense)                 (None, 256)          6881536     flatten_1[0][0]                  \n",
      "__________________________________________________________________________________________________\n",
      "batch_normalization_1 (BatchNor (None, 256)          1024        dense_2[0][0]                    \n",
      "__________________________________________________________________________________________________\n",
      "activation_1 (Activation)       (None, 256)          0           batch_normalization_1[0][0]      \n",
      "__________________________________________________________________________________________________\n",
      "dense_3 (Dense)                 (None, 12)           3084        activation_1[0][0]               \n",
      "==================================================================================================\n",
      "Total params: 9,053,036\n",
      "Trainable params: 9,052,524\n",
      "Non-trainable params: 512\n",
      "__________________________________________________________________________________________________\n"
     ]
    }
   ],
   "source": [
    "from tensorflow.keras.models import load_model\n",
    "\n",
    "input_tensor = layers.Input(shape=(130, 126, 1))\n",
    "\n",
    "x = layers.Conv2D(32, (3, 3), padding='same', activation='relu')(input_tensor)\n",
    "x = layers.Conv2D(32, (3, 3), padding='same', activation='relu')(x)\n",
    "skip_1 = layers.MaxPool2D()(x)\n",
    "\n",
    "x = layers.Conv2D(64, (3, 3), padding='same', activation='relu')(skip_1)\n",
    "x = layers.Conv2D(64, (3, 3), padding='same', activation='relu')(x)\n",
    "x = tf.concat([x, skip_1], -1)\n",
    "skip_2 = layers.MaxPool2D()(x)\n",
    "\n",
    "x = layers.Conv2D(128, (3, 3), padding='same', activation='relu')(skip_2)\n",
    "x = layers.Conv2D(128, (3, 3), padding='same', activation='relu')(x)\n",
    "x = layers.Conv2D(128, (3, 3), padding='same', activation='relu')(x)\n",
    "x = tf.concat([x, skip_2], -1)\n",
    "skip_3 = layers.MaxPool2D()(x)\n",
    "\n",
    "x = layers.Conv2D(256, (3, 3), padding='same', activation='relu')(skip_3)\n",
    "x = layers.Conv2D(256, (3, 3), padding='same', activation='relu')(x)\n",
    "x = layers.Conv2D(256, (3, 3), padding='same', activation='relu')(x)\n",
    "x = tf.concat([x, skip_3], -1)\n",
    "x = layers.MaxPool2D()(x)\n",
    "x = layers.Dropout(0.3)(x)\n",
    "\n",
    "x = layers.Flatten()(x)\n",
    "x = layers.Dense(256)(x)\n",
    "x = layers.BatchNormalization()(x)\n",
    "x = layers.Activation('relu')(x)\n",
    "\n",
    "output_tensor = layers.Dense(12)(x)\n",
    "\n",
    "model_wav_skip = tf.keras.Model(input_tensor, output_tensor)\n",
    "\n",
    "model_wav_skip.summary()"
   ]
  },
  {
   "cell_type": "markdown",
   "id": "documented-edgar",
   "metadata": {},
   "source": [
    "**- 12개의 단어 class를 구분하는 loss를 사용하고 Adam optimizer를 사용**"
   ]
  },
  {
   "cell_type": "code",
   "execution_count": 16,
   "id": "quantitative-humidity",
   "metadata": {},
   "outputs": [
    {
     "name": "stdout",
     "output_type": "stream",
     "text": [
      "✅\n"
     ]
    }
   ],
   "source": [
    "optimizer=tf.keras.optimizers.Adam(1e-4)\n",
    "model_wav_skip.compile(loss=tf.keras.losses.CategoricalCrossentropy(from_logits=True),\n",
    "             optimizer=optimizer,\n",
    "             metrics=['accuracy'])\n",
    "print(\"✅\")"
   ]
  },
  {
   "cell_type": "markdown",
   "id": "grateful-engine",
   "metadata": {},
   "source": [
    "**- 모델 가중치를 저장하는 checkpoint callback 함수 추가**"
   ]
  },
  {
   "cell_type": "code",
   "execution_count": 17,
   "id": "personal-remedy",
   "metadata": {},
   "outputs": [
    {
     "name": "stdout",
     "output_type": "stream",
     "text": [
      "✅\n"
     ]
    }
   ],
   "source": [
    "# the save point\n",
    "checkpoint_dir = os.getenv('HOME')+'/aiffel/speech_recognition/models/wav_skip'\n",
    "\n",
    "cp_callback = tf.keras.callbacks.ModelCheckpoint(checkpoint_dir,\n",
    "                                                 save_weights_only=True,\n",
    "                                                 monitor='val_loss',\n",
    "                                                 mode='auto',\n",
    "                                                 save_best_only=True,\n",
    "                                                 verbose=1)\n",
    "print(\"✅\")"
   ]
  },
  {
   "cell_type": "markdown",
   "id": "sealed-course",
   "metadata": {},
   "source": [
    "**- 학습하기**"
   ]
  },
  {
   "cell_type": "code",
   "execution_count": 18,
   "id": "alpha-upgrade",
   "metadata": {},
   "outputs": [
    {
     "name": "stdout",
     "output_type": "stream",
     "text": [
      "Train for 5694 steps, validate for 632 steps\n",
      "Epoch 1/6\n",
      "5690/5694 [============================>.] - ETA: 0s - loss: 0.8214 - accuracy: 0.7354\n",
      "Epoch 00001: val_loss improved from inf to 0.29174, saving model to /home/aiffel-dj23/aiffel/speech_recognition/models/wav_skip\n",
      "5694/5694 [==============================] - 98s 17ms/step - loss: 0.8212 - accuracy: 0.7355 - val_loss: 0.2917 - val_accuracy: 0.9094\n",
      "Epoch 2/6\n",
      "5692/5694 [============================>.] - ETA: 0s - loss: 0.3124 - accuracy: 0.9036\n",
      "Epoch 00002: val_loss improved from 0.29174 to 0.19056, saving model to /home/aiffel-dj23/aiffel/speech_recognition/models/wav_skip\n",
      "5694/5694 [==============================] - 95s 17ms/step - loss: 0.3125 - accuracy: 0.9036 - val_loss: 0.1906 - val_accuracy: 0.9442\n",
      "Epoch 3/6\n",
      "5691/5694 [============================>.] - ETA: 0s - loss: 0.2029 - accuracy: 0.9384\n",
      "Epoch 00003: val_loss improved from 0.19056 to 0.15076, saving model to /home/aiffel-dj23/aiffel/speech_recognition/models/wav_skip\n",
      "5694/5694 [==============================] - 95s 17ms/step - loss: 0.2030 - accuracy: 0.9384 - val_loss: 0.1508 - val_accuracy: 0.9502\n",
      "Epoch 4/6\n",
      "5691/5694 [============================>.] - ETA: 0s - loss: 0.1452 - accuracy: 0.9563\n",
      "Epoch 00004: val_loss improved from 0.15076 to 0.13161, saving model to /home/aiffel-dj23/aiffel/speech_recognition/models/wav_skip\n",
      "5694/5694 [==============================] - 95s 17ms/step - loss: 0.1451 - accuracy: 0.9564 - val_loss: 0.1316 - val_accuracy: 0.9587\n",
      "Epoch 5/6\n",
      "5690/5694 [============================>.] - ETA: 0s - loss: 0.1119 - accuracy: 0.9650\n",
      "Epoch 00005: val_loss improved from 0.13161 to 0.10785, saving model to /home/aiffel-dj23/aiffel/speech_recognition/models/wav_skip\n",
      "5694/5694 [==============================] - 95s 17ms/step - loss: 0.1119 - accuracy: 0.9650 - val_loss: 0.1078 - val_accuracy: 0.9664\n",
      "Epoch 6/6\n",
      "5691/5694 [============================>.] - ETA: 0s - loss: 0.0877 - accuracy: 0.9727\n",
      "Epoch 00006: val_loss improved from 0.10785 to 0.10699, saving model to /home/aiffel-dj23/aiffel/speech_recognition/models/wav_skip\n",
      "5694/5694 [==============================] - 96s 17ms/step - loss: 0.0876 - accuracy: 0.9727 - val_loss: 0.1070 - val_accuracy: 0.9664\n",
      "✅\n"
     ]
    }
   ],
   "source": [
    "history_wav_skip = model_wav_skip.fit(train_dataset, epochs=max_epochs,\n",
    "                    steps_per_epoch=len(train_spec) // batch_size,\n",
    "                    validation_data=test_dataset,\n",
    "                    validation_steps=len(test_spec) // batch_size,\n",
    "                    callbacks=[cp_callback]\n",
    "                    )\n",
    "print(\"✅\")"
   ]
  },
  {
   "cell_type": "markdown",
   "id": "exotic-guidance",
   "metadata": {},
   "source": [
    "## 5. 학습 후, 학습이 어떻게 진행됐는지 그래프로 출력"
   ]
  },
  {
   "cell_type": "markdown",
   "id": "intensive-recruitment",
   "metadata": {},
   "source": [
    "> - loss, accuracy를 그래프로 표현 "
   ]
  },
  {
   "cell_type": "markdown",
   "id": "hazardous-electron",
   "metadata": {},
   "source": [
    "### 1. Wave model"
   ]
  },
  {
   "cell_type": "markdown",
   "id": "fiscal-quick",
   "metadata": {},
   "source": [
    "**- 학습 결과 Plot**"
   ]
  },
  {
   "cell_type": "code",
   "execution_count": 19,
   "id": "personal-belarus",
   "metadata": {},
   "outputs": [
    {
     "data": {
      "image/png": "[encoded data removed]",
      "text/plain": [
       "<Figure size 576x576 with 2 Axes>"
      ]
     },
     "metadata": {
      "needs_background": "light"
     },
     "output_type": "display_data"
    },
    {
     "name": "stdout",
     "output_type": "stream",
     "text": [
      "✅\n"
     ]
    }
   ],
   "source": [
    "import matplotlib.pyplot as plt\n",
    "\n",
    "acc = history_wav.history['accuracy']\n",
    "val_acc = history_wav.history['val_accuracy']\n",
    "\n",
    "loss=history_wav.history['loss']\n",
    "val_loss=history_wav.history['val_loss']\n",
    "\n",
    "epochs_range = range(len(acc))\n",
    "\n",
    "plt.figure(figsize=(8, 8))\n",
    "plt.subplot(1, 2, 1)\n",
    "plt.plot(epochs_range, acc, label='Training Accuracy')\n",
    "plt.plot(epochs_range, val_acc, label='Validation Accuracy')\n",
    "plt.legend(loc='lower right')\n",
    "plt.title('Training and Validation Accuracy')\n",
    "\n",
    "plt.subplot(1, 2, 2)\n",
    "plt.plot(epochs_range, loss, label='Training Loss')\n",
    "plt.plot(epochs_range, val_loss, label='Validation Loss')\n",
    "plt.legend(loc='upper right')\n",
    "plt.title('Training and Validation Loss')\n",
    "plt.show()\n",
    "print(\"✅\")"
   ]
  },
  {
   "cell_type": "markdown",
   "id": "national-kuwait",
   "metadata": {},
   "source": [
    "### 2. Skip-Connection model"
   ]
  },
  {
   "cell_type": "markdown",
   "id": "aging-drain",
   "metadata": {},
   "source": [
    "**- 학습 결과 Plot**"
   ]
  },
  {
   "cell_type": "code",
   "execution_count": 19,
   "id": "excited-delaware",
   "metadata": {},
   "outputs": [
    {
     "data": {
      "image/png": "[encoded data removed]",
      "text/plain": [
       "<Figure size 576x576 with 2 Axes>"
      ]
     },
     "metadata": {
      "needs_background": "light"
     },
     "output_type": "display_data"
    },
    {
     "name": "stdout",
     "output_type": "stream",
     "text": [
      "✅\n"
     ]
    }
   ],
   "source": [
    "import matplotlib.pyplot as plt\n",
    "\n",
    "acc = history_wav_skip.history['accuracy']\n",
    "val_acc = history_wav_skip.history['val_accuracy']\n",
    "\n",
    "loss=history_wav_skip.history['loss']\n",
    "val_loss=history_wav_skip.history['val_loss']\n",
    "\n",
    "epochs_range = range(len(acc))\n",
    "\n",
    "plt.figure(figsize=(8, 8))\n",
    "plt.subplot(1, 2, 1)\n",
    "plt.plot(epochs_range, acc, label='Training Accuracy')\n",
    "plt.plot(epochs_range, val_acc, label='Validation Accuracy')\n",
    "plt.legend(loc='lower right')\n",
    "plt.title('Training and Validation Accuracy')\n",
    "\n",
    "plt.subplot(1, 2, 2)\n",
    "plt.plot(epochs_range, loss, label='Training Loss')\n",
    "plt.plot(epochs_range, val_loss, label='Validation Loss')\n",
    "plt.legend(loc='upper right')\n",
    "plt.title('Training and Validation Loss')\n",
    "plt.show()\n",
    "print(\"✅\")"
   ]
  },
  {
   "cell_type": "markdown",
   "id": "important-singing",
   "metadata": {},
   "source": [
    "## 6. Test dataset을 이용해서 모델의 성능을 평가"
   ]
  },
  {
   "cell_type": "markdown",
   "id": "therapeutic-occasion",
   "metadata": {},
   "source": [
    "> - 저장한 weight 불러오기\n",
    "> - 모델의 예측값과 정답값이 얼마나 일치하는지 확인"
   ]
  },
  {
   "cell_type": "markdown",
   "id": "paperback-berry",
   "metadata": {},
   "source": [
    "### 1. Wave model"
   ]
  },
  {
   "cell_type": "markdown",
   "id": "happy-uruguay",
   "metadata": {},
   "source": [
    "**- 저장한 weight 불러오기**"
   ]
  },
  {
   "cell_type": "code",
   "execution_count": 20,
   "id": "august-grain",
   "metadata": {},
   "outputs": [
    {
     "name": "stdout",
     "output_type": "stream",
     "text": [
      "✅\n"
     ]
    }
   ],
   "source": [
    "model_wav.load_weights(checkpoint_dir)\n",
    "print(\"✅\")"
   ]
  },
  {
   "cell_type": "markdown",
   "id": "independent-label",
   "metadata": {},
   "source": [
    "**- 평가하기**"
   ]
  },
  {
   "cell_type": "code",
   "execution_count": 21,
   "id": "corresponding-headset",
   "metadata": {},
   "outputs": [
    {
     "name": "stdout",
     "output_type": "stream",
     "text": [
      "633/633 [==============================] - 3s 5ms/step - loss: 0.1147 - accuracy: 0.9640\n",
      "✅\n"
     ]
    }
   ],
   "source": [
    "results = model_wav.evaluate(test_dataset)\n",
    "\n",
    "print(\"✅\")"
   ]
  },
  {
   "cell_type": "code",
   "execution_count": 28,
   "id": "balanced-genre",
   "metadata": {},
   "outputs": [
    {
     "name": "stdout",
     "output_type": "stream",
     "text": [
      "loss value: 0.107\n",
      "accuracy value: 96.6416%\n",
      "✅\n"
     ]
    }
   ],
   "source": [
    "# loss\n",
    "print(\"loss value: {:.3f}\".format(results[0]))\n",
    "\n",
    "# accuracy\n",
    "print(\"accuracy value: {:.4f}%\".format(results[1]*100))\n",
    "\n",
    "print(\"✅\")"
   ]
  },
  {
   "cell_type": "markdown",
   "id": "protective-netscape",
   "metadata": {},
   "source": [
    "**결과)** 최종적으로 손실은 0.107, 정확도는 96.64% 이다."
   ]
  },
  {
   "cell_type": "markdown",
   "id": "desirable-train",
   "metadata": {},
   "source": [
    "**- 테스트셋의 라벨과 모델의 실제 prediction 결과 비교**"
   ]
  },
  {
   "cell_type": "code",
   "execution_count": 23,
   "id": "strong-consensus",
   "metadata": {},
   "outputs": [
    {
     "name": "stdout",
     "output_type": "stream",
     "text": [
      "label :  down\n"
     ]
    },
    {
     "data": {
      "text/html": [
       "\n",
       "                <audio  controls=\"controls\" >\n",
       "                    <source src=\"data:audio/wav;base64,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\" type=\"audio/wav\" />\n",
       "                    Your browser does not support the audio element.\n",
       "                </audio>\n",
       "              "
      ],
      "text/plain": [
       "<IPython.lib.display.Audio object>"
      ]
     },
     "execution_count": 23,
     "metadata": {},
     "output_type": "execute_result"
    }
   ],
   "source": [
    "inv_label_value = {v: k for k, v in label_value.items()}\n",
    "batch_index = np.random.choice(len(test_spec), size=1, replace=False)\n",
    "\n",
    "batch_xs = test_spec[batch_index]\n",
    "batch_ys = test_label[batch_index]\n",
    "y_pred_ = model_wav(batch_xs, training=False)\n",
    "\n",
    "print(\"label : \", str(inv_label_value[batch_ys[0]]))\n",
    "\n",
    "ipd.Audio(batch_xs.reshape(130, 126,), rate=8000)"
   ]
  },
  {
   "cell_type": "code",
   "execution_count": 24,
   "id": "liquid-audit",
   "metadata": {},
   "outputs": [
    {
     "name": "stdout",
     "output_type": "stream",
     "text": [
      "y_pred: down(Correct!)\n",
      "✅\n"
     ]
    }
   ],
   "source": [
    "if np.argmax(y_pred_) == batch_ys[0]:\n",
    "    print(\"y_pred: \" + str(inv_label_value[np.argmax(y_pred_)]) + '(Correct!)')\n",
    "else:\n",
    "    print(\"y_pred: \" + str(inv_label_value[np.argmax(y_pred_)]) + '(Incorrect!)')\n",
    "print(\"✅\")"
   ]
  },
  {
   "cell_type": "markdown",
   "id": "desirable-ghost",
   "metadata": {},
   "source": [
    "**결과)** 테스트셋의 라벨과 모델의 실제 예상 결과과 일치한다."
   ]
  },
  {
   "cell_type": "markdown",
   "id": "efficient-blank",
   "metadata": {},
   "source": [
    "### 2. Skip-Connection model"
   ]
  },
  {
   "cell_type": "markdown",
   "id": "automated-graphic",
   "metadata": {},
   "source": [
    "**- 저장한 weight 불러오기**"
   ]
  },
  {
   "cell_type": "code",
   "execution_count": 20,
   "id": "powerful-traffic",
   "metadata": {},
   "outputs": [
    {
     "name": "stdout",
     "output_type": "stream",
     "text": [
      "✅\n"
     ]
    }
   ],
   "source": [
    "model_wav_skip.load_weights(checkpoint_dir)\n",
    "print(\"✅\")"
   ]
  },
  {
   "cell_type": "markdown",
   "id": "northern-supervisor",
   "metadata": {},
   "source": [
    "**- 평가하기**"
   ]
  },
  {
   "cell_type": "code",
   "execution_count": 21,
   "id": "surprised-blade",
   "metadata": {},
   "outputs": [
    {
     "name": "stdout",
     "output_type": "stream",
     "text": [
      "633/633 [==============================] - 4s 6ms/step - loss: 0.1068 - accuracy: 0.9664\n",
      "✅\n"
     ]
    }
   ],
   "source": [
    "results = model_wav_skip.evaluate(test_dataset)\n",
    "print(\"✅\")"
   ]
  },
  {
   "cell_type": "code",
   "execution_count": 23,
   "id": "southern-boxing",
   "metadata": {},
   "outputs": [
    {
     "name": "stdout",
     "output_type": "stream",
     "text": [
      "loss value: 0.107\n",
      "accuracy value: 96.6416%\n",
      "✅\n"
     ]
    }
   ],
   "source": [
    "# loss\n",
    "print(\"loss value: {:.3f}\".format(results[0]))\n",
    "\n",
    "# accuracy\n",
    "print(\"accuracy value: {:.4f}%\".format(results[1]*100))\n",
    "print(\"✅\")"
   ]
  },
  {
   "cell_type": "markdown",
   "id": "complicated-interaction",
   "metadata": {},
   "source": [
    "**결과)** 최종적으로 손실은 0.107, 정확도는 96.64% 이다."
   ]
  },
  {
   "cell_type": "markdown",
   "id": "nonprofit-monitor",
   "metadata": {},
   "source": [
    "**- 테스트셋의 라벨과 모델의 실제 prediction 결과 비교**"
   ]
  },
  {
   "cell_type": "code",
   "execution_count": 25,
   "id": "miniature-coral",
   "metadata": {},
   "outputs": [
    {
     "name": "stdout",
     "output_type": "stream",
     "text": [
      "label :  up\n"
     ]
    },
    {
     "data": {
      "text/html": [
       "\n",
       "                <audio  controls=\"controls\" >\n",
       "                    <source src=\"data:audio/wav;base64,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\" type=\"audio/wav\" />\n",
       "                    Your browser does not support the audio element.\n",
       "                </audio>\n",
       "              "
      ],
      "text/plain": [
       "<IPython.lib.display.Audio object>"
      ]
     },
     "execution_count": 25,
     "metadata": {},
     "output_type": "execute_result"
    }
   ],
   "source": [
    "inv_label_value = {v: k for k, v in label_value.items()}\n",
    "batch_index = np.random.choice(len(test_spec), size=1, replace=False)\n",
    "\n",
    "batch_xs = test_spec[batch_index]\n",
    "batch_ys = test_label[batch_index]\n",
    "y_pred_ = model_wav_skip(batch_xs, training=False)\n",
    "\n",
    "print(\"label : \", str(inv_label_value[batch_ys[0]]))\n",
    "\n",
    "ipd.Audio(batch_xs.reshape(130, 126,), rate=8000)"
   ]
  },
  {
   "cell_type": "code",
   "execution_count": 26,
   "id": "speaking-livestock",
   "metadata": {},
   "outputs": [
    {
     "name": "stdout",
     "output_type": "stream",
     "text": [
      "y_pred: up(Correct!)\n",
      "✅\n"
     ]
    }
   ],
   "source": [
    "if np.argmax(y_pred_) == batch_ys[0]:\n",
    "    print(\"y_pred: \" + str(inv_label_value[np.argmax(y_pred_)]) + '(Correct!)')\n",
    "else:\n",
    "    print(\"y_pred: \" + str(inv_label_value[np.argmax(y_pred_)]) + '(Incorrect!)')\n",
    "print(\"✅\")"
   ]
  },
  {
   "cell_type": "markdown",
   "id": "actual-twist",
   "metadata": {},
   "source": [
    "**결과)** 테스트셋의 라벨과 모델의 실제 예상 결과과 일치한다."
   ]
  },
  {
   "cell_type": "markdown",
   "id": "clinical-compiler",
   "metadata": {},
   "source": [
    "## 결과"
   ]
  },
  {
   "cell_type": "markdown",
   "id": "checked-store",
   "metadata": {},
   "source": [
    "> 결과적으로 두 모델 모두 최종적으로 손실은 0.107, 정확도는 96.64% 가 나왔다.\n",
    "> 제대로 실행한 것이 맞는지 결과를 보고 의문이 들었지만, 학습결과를 시각화 한 그래프를 보니\n",
    "> 미미한 차이가 발견되었다."
   ]
  },
  {
   "cell_type": "markdown",
   "id": "grave-comparison",
   "metadata": {},
   "source": [
    "## 총평"
   ]
  },
  {
   "cell_type": "markdown",
   "id": "designed-transformation",
   "metadata": {},
   "source": [
    "> Wave Model을 돌리고 나니 커널이 죽어서, Skip-Connection Model을 따로 한번 더 돌리다 \n",
    "> 보니, 실행 순서가 뒤죽박죽이다.\n",
    ">\n",
    "> 일주일 동안 음성 데이터의 분류 프로젝트를 진행하며, 어느 때보다 많이 힘들었다.\n",
    "> 이번 노드의 내용을 이해하기도 어려웠고, 프로젝트 진행을 해나가기 위해 생소한 코드를 작성\n",
    "> 해야 하는 것이 큰 난관이었다. 매주 수업을 통해 이제야 파이썬의 언어인 코드를 배우고 있는\n",
    "> 데, 코드를 작성해야 하니 쉬운 일이 아니다. \n",
    ">\n",
    "> 그래도 끝까지 포기하지 않고 이른 아침에 시간을 내어 1-2시간씩 꾸준히 시도하니, 이해가 \n",
    "> 가지 않던 부분들도 이제는 맥락적인 이해가 가능하다.(완벽한 이해는 6개월 후에는 가능하겠지 > 하며 스스로를 격려해 본다 ㅠㅜ)\n",
    ">\n",
    "> 그리고 커널이 자꾸 꺼지는 문제도 난관 중에 하나였는데, 슬랙에서 이미 같은 문제에 대해 \n",
    "> 고민하신 분들의 글을 읽으면서 많은 도움을 받았다.\n",
    ">\n",
    "> 지난주에는 발견된 에러들에 대해 곧바로 팀원들과 토론을 통해 해결을 해보자 생각했는데, \n",
    "> 가장 문제가되는 에러들에도 도달하기 까지 너무 많은 시간이 걸렸다. (그 에러에 도달하기 전 \n",
    "> 슬랙에서 해결책들을 봐도 와닿지 않기 때문에...)\n",
    "> \n",
    "> 다음에는 에러에 도달하는 시간이 짧아지기를, 그리고 다양한 시도를 해볼 여유가 생기기를 \n",
    "> 바란다."
   ]
  }
 ],
 "metadata": {
  "kernelspec": {
   "display_name": "aiffel",
   "language": "python",
   "name": "aiffel"
  },
  "language_info": {
   "codemirror_mode": {
    "name": "ipython",
    "version": 3
   },
   "file_extension": ".py",
   "mimetype": "text/x-python",
   "name": "python",
   "nbconvert_exporter": "python",
   "pygments_lexer": "ipython3",
   "version": "3.7.0"
  }
 },
 "nbformat": 4,
 "nbformat_minor": 5
}
